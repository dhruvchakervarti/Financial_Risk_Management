{
 "cells": [
  {
   "cell_type": "code",
   "execution_count": 53,
   "metadata": {},
   "outputs": [],
   "source": [
    "import numpy as np\n",
    "import math"
   ]
  },
  {
   "cell_type": "code",
   "execution_count": 59,
   "metadata": {},
   "outputs": [],
   "source": [
    "# Question1\n",
    "r = 0.02\n",
    "c=0.1\n",
    "t=25\n",
    "FV = 100\n",
    "def price(r,c,t,FV):\n",
    "    if (t != math.inf):\n",
    "        D = lambda i: (1+(r/2))**(-i)\n",
    "        Discounts = [D(x) for x in range(1,((2*t)+1))]\n",
    "        PV = (((c*FV)/2)*np.sum(Discounts)) + (FV*Discounts[-1])\n",
    "    else:\n",
    "        PV = (c*FV)/(r/2)\n",
    "    return PV"
   ]
  },
  {
   "cell_type": "code",
   "execution_count": 60,
   "metadata": {},
   "outputs": [
    {
     "data": {
      "text/plain": [
       "256.78447012442007"
      ]
     },
     "execution_count": 60,
     "metadata": {},
     "output_type": "execute_result"
    }
   ],
   "source": [
    "price(r,c,t,FV)"
   ]
  },
  {
   "cell_type": "code",
   "execution_count": 61,
   "metadata": {},
   "outputs": [
    {
     "data": {
      "text/plain": [
       "178.57142857142856"
      ]
     },
     "execution_count": 61,
     "metadata": {},
     "output_type": "execute_result"
    }
   ],
   "source": [
    "# Question 2\n",
    "price(r=0.07,c=0.0625,t=math.inf,FV=100)"
   ]
  },
  {
   "cell_type": "code",
   "execution_count": 70,
   "metadata": {},
   "outputs": [
    {
     "data": {
      "text/plain": [
       "3559201.606128771"
      ]
     },
     "execution_count": 70,
     "metadata": {},
     "output_type": "execute_result"
    }
   ],
   "source": [
    "#Question 3\n",
    "PV = 1000000\n",
    "r = 0.04\n",
    "c = 14000\n",
    "t = 120\n",
    "Accumulated_int = lambda i: (1+(r/12))**i\n",
    "Interest = c*np.sum([Accumulated_int(x) for x in range(1,t+1)])\n",
    "Total = PV*((1+(r/12))**t) + Interest\n",
    "Total"
   ]
  },
  {
   "cell_type": "code",
   "execution_count": 71,
   "metadata": {},
   "outputs": [
    {
     "data": {
      "text/plain": [
       "111.11111111111111"
      ]
     },
     "execution_count": 71,
     "metadata": {},
     "output_type": "execute_result"
    }
   ],
   "source": [
    "# Question 4\n",
    "10/(0.12-0.03)"
   ]
  },
  {
   "cell_type": "code",
   "execution_count": 105,
   "metadata": {},
   "outputs": [
    {
     "data": {
      "text/plain": [
       "array([1000. , 1100. , 1210. , 1331. , 1464.1, 1464.1, 1464.1, 1464.1,\n",
       "       1464.1, 1464.1, 1464.1, 1464.1, 1464.1, 1464.1, 1464.1, 1464.1,\n",
       "       1464.1, 1464.1, 1464.1, 1464.1, 1464.1, 1464.1, 1464.1, 1464.1,\n",
       "       1464.1, 1464.1, 1464.1, 1464.1, 1464.1, 1464.1])"
      ]
     },
     "execution_count": 105,
     "metadata": {},
     "output_type": "execute_result"
    }
   ],
   "source": [
    "# Question 5\n",
    "growth = [1000*(1.1**i) for i in range(0,5)]\n",
    "coupon = np.append(growth,[growth[-1]]*25)\n",
    "coupon"
   ]
  },
  {
   "cell_type": "code",
   "execution_count": 121,
   "metadata": {},
   "outputs": [],
   "source": [
    "r = 0.035\n",
    "D = lambda i: (1+(r))**(-i)\n",
    "Discounts = [D(x) for x in range(1,(30+1))]"
   ]
  },
  {
   "cell_type": "code",
   "execution_count": 120,
   "metadata": {},
   "outputs": [
    {
     "data": {
      "text/plain": [
       "25794.324041654545"
      ]
     },
     "execution_count": 120,
     "metadata": {},
     "output_type": "execute_result"
    }
   ],
   "source": [
    "(coupon*Discounts).sum()"
   ]
  },
  {
   "cell_type": "code",
   "execution_count": 124,
   "metadata": {},
   "outputs": [
    {
     "data": {
      "text/plain": [
       "96412.37680726385"
      ]
     },
     "execution_count": 124,
     "metadata": {},
     "output_type": "execute_result"
    }
   ],
   "source": [
    "# Question 6\n",
    "r =0.03\n",
    "np.sum([10000*(1+r)**(-i) for i in range(21,46)])"
   ]
  },
  {
   "cell_type": "code",
   "execution_count": 126,
   "metadata": {},
   "outputs": [],
   "source": [
    "import scipy.optimize as optimize"
   ]
  },
  {
   "cell_type": "code",
   "execution_count": 134,
   "metadata": {},
   "outputs": [],
   "source": [
    "# Question 7\n",
    "\n",
    "Price = 893.22\n",
    "c = 0.06\n",
    "t = 20\n",
    "FV=1000\n",
    "def ytm(Price,c,t,FV,x0 =0 ):\n",
    "    ytm_func = lambda r: sum([((c*FV)/2)/(1+(r/2))**(t) for t in range(1,2*t+1)]) + FV/(1+(r/2))**(2*t) - Price\n",
    "    \n",
    "    return optimize.newton(ytm_func,x0)"
   ]
  },
  {
   "cell_type": "code",
   "execution_count": 135,
   "metadata": {},
   "outputs": [
    {
     "data": {
      "text/plain": [
       "0.07000047092490873"
      ]
     },
     "execution_count": 135,
     "metadata": {},
     "output_type": "execute_result"
    }
   ],
   "source": [
    "ytm(Price,c,t,FV)"
   ]
  },
  {
   "cell_type": "code",
   "execution_count": null,
   "metadata": {},
   "outputs": [],
   "source": []
  }
 ],
 "metadata": {
  "kernelspec": {
   "display_name": "Python 3",
   "language": "python",
   "name": "python3"
  },
  "language_info": {
   "codemirror_mode": {
    "name": "ipython",
    "version": 3
   },
   "file_extension": ".py",
   "mimetype": "text/x-python",
   "name": "python",
   "nbconvert_exporter": "python",
   "pygments_lexer": "ipython3",
   "version": "3.7.6"
  }
 },
 "nbformat": 4,
 "nbformat_minor": 4
}
